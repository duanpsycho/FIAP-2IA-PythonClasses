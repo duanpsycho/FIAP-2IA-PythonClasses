{
 "cells": [
  {
   "cell_type": "markdown",
   "metadata": {},
   "source": [
    "# Aula 4 - Numpy"
   ]
  },
  {
   "cell_type": "code",
   "execution_count": 1,
   "metadata": {},
   "outputs": [],
   "source": [
    "import numpy as np"
   ]
  },
  {
   "cell_type": "code",
   "execution_count": 2,
   "metadata": {},
   "outputs": [],
   "source": [
    "array_1 = np.array([[10,20,30,40],[1,2,3,4]])\n",
    "array_2 = np.array([[50,60,70,80],[5,6,7,8]])"
   ]
  },
  {
   "cell_type": "code",
   "execution_count": 3,
   "metadata": {},
   "outputs": [
    {
     "data": {
      "text/plain": [
       "array([[ 60,  80, 100, 120],\n",
       "       [  6,   8,  10,  12]])"
      ]
     },
     "execution_count": 3,
     "metadata": {},
     "output_type": "execute_result"
    }
   ],
   "source": [
    "# Soma\n",
    "array_1 + array_2"
   ]
  },
  {
   "cell_type": "code",
   "execution_count": 4,
   "metadata": {},
   "outputs": [
    {
     "data": {
      "text/plain": [
       "array([[ 500, 1200, 2100, 3200],\n",
       "       [   5,   12,   21,   32]])"
      ]
     },
     "execution_count": 4,
     "metadata": {},
     "output_type": "execute_result"
    }
   ],
   "source": [
    "# Multipliacao\n",
    "array_1 * array_2"
   ]
  },
  {
   "cell_type": "code",
   "execution_count": 5,
   "metadata": {},
   "outputs": [
    {
     "data": {
      "text/plain": [
       "array([[0.1       , 0.05      , 0.03333333, 0.025     ],\n",
       "       [1.        , 0.5       , 0.33333333, 0.25      ]])"
      ]
     },
     "execution_count": 5,
     "metadata": {},
     "output_type": "execute_result"
    }
   ],
   "source": [
    "# Divisao\n",
    "1 / array_1"
   ]
  },
  {
   "cell_type": "code",
   "execution_count": 6,
   "metadata": {},
   "outputs": [],
   "source": [
    "# Slice\n",
    "array_3 = np.array([1,2,3,4,5,6,7,8,9,10])"
   ]
  },
  {
   "cell_type": "code",
   "execution_count": 7,
   "metadata": {},
   "outputs": [
    {
     "data": {
      "text/plain": [
       "array([2, 3])"
      ]
     },
     "execution_count": 7,
     "metadata": {},
     "output_type": "execute_result"
    }
   ],
   "source": [
    "array_3[1:3]"
   ]
  },
  {
   "cell_type": "code",
   "execution_count": 8,
   "metadata": {},
   "outputs": [
    {
     "data": {
      "text/plain": [
       "array([ 3,  4,  5,  6,  7,  8,  9, 10])"
      ]
     },
     "execution_count": 8,
     "metadata": {},
     "output_type": "execute_result"
    }
   ],
   "source": [
    "array_3[2:]"
   ]
  },
  {
   "cell_type": "code",
   "execution_count": 9,
   "metadata": {},
   "outputs": [
    {
     "data": {
      "text/plain": [
       "array([1, 2, 3])"
      ]
     },
     "execution_count": 9,
     "metadata": {},
     "output_type": "execute_result"
    }
   ],
   "source": [
    "array_3[:3]"
   ]
  },
  {
   "cell_type": "code",
   "execution_count": 10,
   "metadata": {},
   "outputs": [
    {
     "data": {
      "text/plain": [
       "array([ 1,  2,  3,  4,  5,  6,  7,  8,  9, 10])"
      ]
     },
     "execution_count": 10,
     "metadata": {},
     "output_type": "execute_result"
    }
   ],
   "source": [
    "array_3[:]"
   ]
  },
  {
   "cell_type": "markdown",
   "metadata": {},
   "source": [
    "## Desafio 1\n",
    "Supondo que uma imagem é composta por uma matriz 4 x 4, mapeie as letras a, d e j conforme a figura abaixo, sendo a cor cinza representada pelo bit 1 e a branca pelo bit 0.  \n",
    "Para inicializar as matrizes opte pelas estruturas np.ones e np.zeros.  \n",
    "Utilize a anotação slice."
   ]
  },
  {
   "cell_type": "code",
   "execution_count": 11,
   "metadata": {},
   "outputs": [
    {
     "data": {
      "text/plain": [
       "array([[0., 1., 1., 0.],\n",
       "       [1., 0., 0., 1.],\n",
       "       [1., 1., 1., 1.],\n",
       "       [1., 0., 0., 1.]])"
      ]
     },
     "execution_count": 11,
     "metadata": {},
     "output_type": "execute_result"
    }
   ],
   "source": [
    "import numpy\n",
    "letra_a = np.zeros([4,4])\n",
    "letra_a[0,1:3] = 1 \n",
    "letra_a[1,0] = 1 \n",
    "letra_a[1,3] = 1 \n",
    "letra_a[2:3] = 1 \n",
    "letra_a[3,0] = 1 \n",
    "letra_a[3,3] = 1 \n",
    "letra_a"
   ]
  },
  {
   "cell_type": "code",
   "execution_count": 12,
   "metadata": {},
   "outputs": [
    {
     "data": {
      "text/plain": [
       "array([[1., 1., 1., 0.],\n",
       "       [1., 0., 0., 1.],\n",
       "       [1., 0., 0., 1.],\n",
       "       [1., 1., 1., 0.]])"
      ]
     },
     "execution_count": 12,
     "metadata": {},
     "output_type": "execute_result"
    }
   ],
   "source": [
    "letra_d = np.zeros([4,4])\n",
    "letra_d[0,:3] = 1 \n",
    "letra_d[1,0] = 1 \n",
    "letra_d[1,3] = 1 \n",
    "letra_d[2,0] = 1 \n",
    "letra_d[2,3] = 1\n",
    "letra_d[3,:3] = 1\n",
    "letra_d"
   ]
  },
  {
   "cell_type": "code",
   "execution_count": 13,
   "metadata": {},
   "outputs": [
    {
     "data": {
      "text/plain": [
       "array([[1., 1., 1., 1.],\n",
       "       [0., 0., 1., 0.],\n",
       "       [1., 0., 1., 0.],\n",
       "       [1., 1., 1., 0.]])"
      ]
     },
     "execution_count": 13,
     "metadata": {},
     "output_type": "execute_result"
    }
   ],
   "source": [
    "letra_j = np.zeros([4,4])\n",
    "letra_j[0,:] = 1 \n",
    "letra_j[1,2:3] = 1 \n",
    "letra_j[2,0] = 1 \n",
    "letra_j[2,2] = 1 \n",
    "letra_j[3,:3] = 1\n",
    "letra_j"
   ]
  },
  {
   "cell_type": "markdown",
   "metadata": {},
   "source": [
    "## Desafio 2\n",
    "Utilize o arquivo \"iris.data.txt” (no repositório) que contem os dados do projeto Íris, em partilar o tamanho das sépalas, para normalizar seus dados, de tal forma que os valores fiquem entre 0 e 1."
   ]
  },
  {
   "cell_type": "code",
   "execution_count": 14,
   "metadata": {},
   "outputs": [],
   "source": [
    "import numpy as np"
   ]
  },
  {
   "cell_type": "code",
   "execution_count": 34,
   "metadata": {},
   "outputs": [
    {
     "data": {
      "text/plain": [
       "array([0.22222222, 0.16666667, 0.11111111, 0.08333333, 0.19444444,\n",
       "       0.30555556, 0.08333333, 0.19444444, 0.02777778, 0.16666667,\n",
       "       0.30555556, 0.13888889, 0.13888889, 0.        , 0.41666667,\n",
       "       0.38888889, 0.30555556, 0.22222222, 0.38888889, 0.22222222,\n",
       "       0.30555556, 0.22222222, 0.08333333, 0.22222222, 0.13888889,\n",
       "       0.19444444, 0.19444444, 0.25      , 0.25      , 0.11111111,\n",
       "       0.13888889, 0.30555556, 0.25      , 0.33333333, 0.16666667,\n",
       "       0.19444444, 0.33333333, 0.16666667, 0.02777778, 0.22222222,\n",
       "       0.19444444, 0.05555556, 0.02777778, 0.19444444, 0.22222222,\n",
       "       0.13888889, 0.22222222, 0.08333333, 0.27777778, 0.19444444,\n",
       "       0.75      , 0.58333333, 0.72222222, 0.33333333, 0.61111111,\n",
       "       0.38888889, 0.55555556, 0.16666667, 0.63888889, 0.25      ,\n",
       "       0.19444444, 0.44444444, 0.47222222, 0.5       , 0.36111111,\n",
       "       0.66666667, 0.36111111, 0.41666667, 0.52777778, 0.36111111,\n",
       "       0.44444444, 0.5       , 0.55555556, 0.5       , 0.58333333,\n",
       "       0.63888889, 0.69444444, 0.66666667, 0.47222222, 0.38888889,\n",
       "       0.33333333, 0.33333333, 0.41666667, 0.47222222, 0.30555556,\n",
       "       0.47222222, 0.66666667, 0.55555556, 0.36111111, 0.33333333,\n",
       "       0.33333333, 0.5       , 0.41666667, 0.19444444, 0.36111111,\n",
       "       0.38888889, 0.38888889, 0.52777778, 0.22222222, 0.38888889,\n",
       "       0.55555556, 0.41666667, 0.77777778, 0.55555556, 0.61111111,\n",
       "       0.91666667, 0.16666667, 0.83333333, 0.66666667, 0.80555556,\n",
       "       0.61111111, 0.58333333, 0.69444444, 0.38888889, 0.41666667,\n",
       "       0.58333333, 0.61111111, 0.94444444, 0.94444444, 0.47222222,\n",
       "       0.72222222, 0.36111111, 0.94444444, 0.55555556, 0.66666667,\n",
       "       0.80555556, 0.52777778, 0.5       , 0.58333333, 0.80555556,\n",
       "       0.86111111, 1.        , 0.58333333, 0.55555556, 0.5       ,\n",
       "       0.94444444, 0.55555556, 0.58333333, 0.47222222, 0.72222222,\n",
       "       0.66666667, 0.72222222, 0.41666667, 0.69444444, 0.66666667,\n",
       "       0.66666667, 0.55555556, 0.61111111, 0.52777778, 0.44444444])"
      ]
     },
     "execution_count": 34,
     "metadata": {},
     "output_type": "execute_result"
    }
   ],
   "source": [
    "array_norm = np.loadtxt('iris.txt', delimiter=',', usecols=[0])\n",
    "# Normalizando\n",
    "max = array_texto.max()\n",
    "min = array_texto.min()\n",
    "norm = lambda x: (x - min)/(max - min)\n",
    "a = np.array(list(map(norm,array_norm)))\n",
    "a"
   ]
  },
  {
   "cell_type": "code",
   "execution_count": 38,
   "metadata": {},
   "outputs": [
    {
     "data": {
      "text/plain": [
       "(7.9, 4.3)"
      ]
     },
     "execution_count": 38,
     "metadata": {},
     "output_type": "execute_result"
    }
   ],
   "source": [
    "# Solucao do professor\n",
    "array = np.loadtxt('iris.txt', delimiter=',', usecols=[0])\n",
    "max, min = array.max(), array.min()\n",
    "max, min"
   ]
  },
  {
   "cell_type": "code",
   "execution_count": 42,
   "metadata": {},
   "outputs": [
    {
     "data": {
      "text/plain": [
       "array([-1.6136355 , -1.61482625, -1.61601699, -1.61661237, -1.61423087,\n",
       "       -1.61184938, -1.61661237, -1.61423087, -1.61780312, -1.61482625,\n",
       "       -1.61184938, -1.61542162, -1.61542162, -1.61839849, -1.60946788,\n",
       "       -1.61006325, -1.61184938, -1.6136355 , -1.61006325, -1.6136355 ,\n",
       "       -1.61184938, -1.6136355 , -1.61661237, -1.6136355 , -1.61542162,\n",
       "       -1.61423087, -1.61423087, -1.61304012, -1.61304012, -1.61601699,\n",
       "       -1.61542162, -1.61184938, -1.61304012, -1.611254  , -1.61482625,\n",
       "       -1.61423087, -1.611254  , -1.61482625, -1.61780312, -1.6136355 ,\n",
       "       -1.61423087, -1.61720774, -1.61780312, -1.61423087, -1.6136355 ,\n",
       "       -1.61542162, -1.6136355 , -1.61661237, -1.61244475, -1.61423087,\n",
       "       -1.60232339, -1.60589563, -1.60291876, -1.611254  , -1.60530026,\n",
       "       -1.61006325, -1.60649101, -1.61482625, -1.60470488, -1.61304012,\n",
       "       -1.61423087, -1.6088725 , -1.60827713, -1.60768176, -1.61065863,\n",
       "       -1.60410951, -1.61065863, -1.60946788, -1.60708638, -1.61065863,\n",
       "       -1.6088725 , -1.60768176, -1.60649101, -1.60768176, -1.60589563,\n",
       "       -1.60470488, -1.60351414, -1.60410951, -1.60827713, -1.61006325,\n",
       "       -1.611254  , -1.611254  , -1.60946788, -1.60827713, -1.61184938,\n",
       "       -1.60827713, -1.60410951, -1.60649101, -1.61065863, -1.611254  ,\n",
       "       -1.611254  , -1.60768176, -1.60946788, -1.61423087, -1.61065863,\n",
       "       -1.61006325, -1.61006325, -1.60708638, -1.6136355 , -1.61006325,\n",
       "       -1.60649101, -1.60946788, -1.60172801, -1.60649101, -1.60530026,\n",
       "       -1.59875114, -1.61482625, -1.60053727, -1.60410951, -1.60113264,\n",
       "       -1.60530026, -1.60589563, -1.60351414, -1.61006325, -1.60946788,\n",
       "       -1.60589563, -1.60530026, -1.59815577, -1.59815577, -1.60827713,\n",
       "       -1.60291876, -1.61065863, -1.59815577, -1.60649101, -1.60410951,\n",
       "       -1.60113264, -1.60708638, -1.60768176, -1.60589563, -1.60113264,\n",
       "       -1.59994189, -1.59696502, -1.60589563, -1.60649101, -1.60768176,\n",
       "       -1.59815577, -1.60649101, -1.60589563, -1.60827713, -1.60291876,\n",
       "       -1.60410951, -1.60291876, -1.60946788, -1.60351414, -1.60410951,\n",
       "       -1.60410951, -1.60649101, -1.60530026, -1.60708638, -1.6088725 ])"
      ]
     },
     "execution_count": 42,
     "metadata": {},
     "output_type": "execute_result"
    }
   ],
   "source": [
    "array_norm = (array_norm - min)/(max - min)\n",
    "array_norm"
   ]
  },
  {
   "cell_type": "markdown",
   "metadata": {},
   "source": [
    "# Aula 4 - Pandas"
   ]
  },
  {
   "cell_type": "code",
   "execution_count": 53,
   "metadata": {},
   "outputs": [
    {
     "data": {
      "text/plain": [
       "True"
      ]
     },
     "execution_count": 53,
     "metadata": {},
     "output_type": "execute_result"
    }
   ],
   "source": [
    "import pandas as pd\n",
    "from pandas import Series, DataFrame\n",
    "import numpy as np\n",
    "import webbrowser\n",
    "site =\"https://pt.wikipedia.org/wiki/Lista_de_episódios_de_Daredevil\"\n",
    "webbrowser.open(site)\n",
    "breaking_bad_temporada_4 = pd.read_clipboard()\n",
    "breaking_bad_temporada_4"
   ]
  },
  {
   "cell_type": "code",
   "execution_count": 50,
   "metadata": {},
   "outputs": [],
   "source": [
    "None"
   ]
  }
 ],
 "metadata": {
  "kernelspec": {
   "display_name": "Python 3",
   "language": "python",
   "name": "python3"
  },
  "language_info": {
   "codemirror_mode": {
    "name": "ipython",
    "version": 3
   },
   "file_extension": ".py",
   "mimetype": "text/x-python",
   "name": "python",
   "nbconvert_exporter": "python",
   "pygments_lexer": "ipython3",
   "version": "3.6.4"
  }
 },
 "nbformat": 4,
 "nbformat_minor": 2
}
