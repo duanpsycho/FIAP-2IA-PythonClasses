{
 "cells": [
  {
   "cell_type": "markdown",
   "metadata": {},
   "source": [
    "# Aula 2"
   ]
  },
  {
   "cell_type": "markdown",
   "metadata": {},
   "source": [
    "## Lamba"
   ]
  },
  {
   "cell_type": "code",
   "execution_count": 1,
   "metadata": {},
   "outputs": [],
   "source": [
    "def quadrado(numero):\n",
    "    return numero ** 2"
   ]
  },
  {
   "cell_type": "code",
   "execution_count": 2,
   "metadata": {},
   "outputs": [
    {
     "data": {
      "text/plain": [
       "4"
      ]
     },
     "execution_count": 2,
     "metadata": {},
     "output_type": "execute_result"
    }
   ],
   "source": [
    "quadrado(2)"
   ]
  },
  {
   "cell_type": "code",
   "execution_count": 3,
   "metadata": {},
   "outputs": [],
   "source": [
    "# Lambda\n",
    "# Para cada numero, faça numero elevado a 2\n",
    "# lambda parametros: operacao, variaveis\n",
    "quadrado_alt = lambda numero: numero ** 2"
   ]
  },
  {
   "cell_type": "code",
   "execution_count": 4,
   "metadata": {},
   "outputs": [
    {
     "data": {
      "text/plain": [
       "4"
      ]
     },
     "execution_count": 4,
     "metadata": {},
     "output_type": "execute_result"
    }
   ],
   "source": [
    "quadrado_alt(2)"
   ]
  },
  {
   "cell_type": "code",
   "execution_count": 5,
   "metadata": {},
   "outputs": [
    {
     "name": "stdout",
     "output_type": "stream",
     "text": [
      "{1: 3, 2: 3, 3: 6}\n"
     ]
    }
   ],
   "source": [
    "# Counter\n",
    "from collections import Counter, defaultdict\n",
    "\n",
    "lista = [1,1,1,2,2,2,3,3,3,3,3,3]\n",
    "a = Counter(lista)\n",
    "print(dict(a))"
   ]
  },
  {
   "cell_type": "code",
   "execution_count": 6,
   "metadata": {},
   "outputs": [
    {
     "name": "stdout",
     "output_type": "stream",
     "text": [
      "[62.13999999999999, 77.05359999999999, 124.27999999999999, 93.21, 110.60919999999999, 113.09479999999999]\n"
     ]
    }
   ],
   "source": [
    "# Map\n",
    "velocidades_kph = [100, 124, 200, 150, 178, 182]\n",
    "\n",
    "# # Criar uma lista, usando lambda na transformacao lendo a lista kph\n",
    "velocidades_mph = list(map(lambda v: (0.6214)*v, velocidades_kph))\n",
    "velocidades_mph\n",
    "\n",
    "# Função\n",
    "def kph_to_mph(kmh):\n",
    "    mph = 0.6214 * kmh\n",
    "    return mph\n",
    "\n",
    "# Criar uma lista, para cada item da kph chame a função kph_to_mph\n",
    "velocidades_mph = list(map(kph_to_mph,velocidades_kph))\n",
    "print(velocidades_mph)\n"
   ]
  },
  {
   "cell_type": "code",
   "execution_count": 7,
   "metadata": {},
   "outputs": [
    {
     "data": {
      "text/plain": [
       "15"
      ]
     },
     "execution_count": 7,
     "metadata": {},
     "output_type": "execute_result"
    }
   ],
   "source": [
    "# Reduce\n",
    "# Considera sempre conjunto de 2 items na função\n",
    "import functools\n",
    "lista = [1, 2, 3, 4, 5]\n",
    "lista_soma = functools.reduce(lambda x, y: (x + y), lista)\n",
    "# 1 + 2 = 3 + 3 = 6 + 4 = 10 + 5 = 15 + 6 = 21\n",
    "lista_soma"
   ]
  },
  {
   "cell_type": "code",
   "execution_count": 8,
   "metadata": {},
   "outputs": [
    {
     "data": {
      "text/plain": [
       "[0, 2, 4, 6, 8]"
      ]
     },
     "execution_count": 8,
     "metadata": {},
     "output_type": "execute_result"
    }
   ],
   "source": [
    "# Filter\n",
    "lista_num = range(10)\n",
    "# Com lambda\n",
    "lista_impar = list(filter(lambda x: x%2 !=0, lista_num))\n",
    "lista_impar\n",
    "\n",
    "# Com função\n",
    "def is_par(num):\n",
    "    return num % 2 == 0\n",
    "   \n",
    "lista_par = list(filter(is_par, lista_num))\n",
    "lista_par"
   ]
  },
  {
   "cell_type": "code",
   "execution_count": 9,
   "metadata": {},
   "outputs": [
    {
     "data": {
      "text/plain": [
       "[4, 5, 6]"
      ]
     },
     "execution_count": 9,
     "metadata": {},
     "output_type": "execute_result"
    }
   ],
   "source": [
    "# Zip\n",
    "# Combina duas listas, considerando a mesma posição para ambas as listas e criando uma tupla. (Par ordenado)\n",
    "lista_1 = [1, 2, 3]\n",
    "lista_2 = [4, 5, 6]\n",
    "list(zip(lista_1, lista_2))\n",
    "\n",
    "# Retorna o maior item de cada tupla da junção das listas com a função ZIP\n",
    "maiores = map(lambda par: max(par),list(zip(lista_1, lista_2)))\n",
    "list(maiores)"
   ]
  },
  {
   "cell_type": "code",
   "execution_count": 10,
   "metadata": {},
   "outputs": [
    {
     "data": {
      "text/plain": [
       "True"
      ]
     },
     "execution_count": 10,
     "metadata": {},
     "output_type": "execute_result"
    }
   ],
   "source": [
    "# all e any\n",
    "lista = [True, True, True, True]\n",
    "# all = verifica se todos os valores estao na condição\n",
    "all(lista)\n",
    "# any = verifica se alguns dos valores estão na condição\n",
    "any(lista)"
   ]
  },
  {
   "cell_type": "code",
   "execution_count": 11,
   "metadata": {},
   "outputs": [],
   "source": [
    "# list e set\n",
    "# lista retorna uma lista a partir de uma lista\n",
    "# set retorna só os distintos de uma lista"
   ]
  },
  {
   "cell_type": "markdown",
   "metadata": {},
   "source": [
    " ## Desafio 1\n",
    "Crie uma lista com 500 items de valores inteiros randômicos (entre 0 e 5k) e obtenha por meio de uma função reduce o maior e o menor número da lista. Use a função randrange(número_inicial, número_final) do pacote random para obter um número randômico a partir de um intervalo"
   ]
  },
  {
   "cell_type": "code",
   "execution_count": 12,
   "metadata": {},
   "outputs": [
    {
     "name": "stdout",
     "output_type": "stream",
     "text": [
      "Minimo 25, Maximo 5000\n"
     ]
    }
   ],
   "source": [
    "import random\n",
    "import functools\n",
    "random.seed(8)\n",
    "lista = range(0,500)\n",
    "lista_random = list(map(lambda x: random.randrange(1,5001), lista))\n",
    "minimo = functools.reduce(lambda x, y: x if x < y else y, lista_random)\n",
    "maximo = functools.reduce(lambda x, y: x if x > y else y, lista_random)\n",
    "len(lista_random)\n",
    "print(\"Minimo {0}, Maximo {1}\".format(minimo, maximo))"
   ]
  },
  {
   "cell_type": "markdown",
   "metadata": {},
   "source": [
    "## Desafio 5\n",
    "Crie uma aplicação que dado um número randômico entre 1 e 10 pergunto para o jogador adivinhar o número. A Cada palpite deve ser informado se o número é maior ou menor que o número a ser adivinhado."
   ]
  },
  {
   "cell_type": "code",
   "execution_count": 13,
   "metadata": {},
   "outputs": [
    {
     "data": {
      "text/plain": [
       "2"
      ]
     },
     "execution_count": 13,
     "metadata": {},
     "output_type": "execute_result"
    }
   ],
   "source": [
    "import random\n",
    "numero_inicial = 1\n",
    "numero_final = 10\n",
    "aleatorio = random.randrange(numero_inicial,numero_final)\n",
    "aleatorio"
   ]
  },
  {
   "cell_type": "code",
   "execution_count": 14,
   "metadata": {},
   "outputs": [],
   "source": [
    "def number_check(user_number, random_number):\n",
    "        if user_number == random_number:\n",
    "            print(\"Acertou, mizeravi!\")\n",
    "            return True\n",
    "        elif aleatorio > user_number:\n",
    "            print(\"Quase lá! O Número é maior, tente novamente!\")\n",
    "        elif user_number > random_number:\n",
    "            print(\"Quase lá! O Número é menor, tente novamente!\")\n",
    "        return False"
   ]
  },
  {
   "cell_type": "code",
   "execution_count": 16,
   "metadata": {},
   "outputs": [
    {
     "name": "stdout",
     "output_type": "stream",
     "text": [
      "Entre com o palpite: 2\n",
      "Acertou, mizeravi!\n"
     ]
    }
   ],
   "source": [
    "acertar = False\n",
    "while acertar == False:\n",
    "    try:\n",
    "        num = int(input(\"Entre com o palpite: \"))\n",
    "        if num > 100:\n",
    "            raise Expection(\"Número maior que 100!\")\n",
    "        acertar = number_check(num, aleatorio)\n",
    "    except Exception as e:\n",
    "        print(e.args)\n",
    "        print(\"Número Invalido\")"
   ]
  },
  {
   "cell_type": "markdown",
   "metadata": {},
   "source": [
    "##  Trabalhando com Datas"
   ]
  },
  {
   "cell_type": "code",
   "execution_count": 19,
   "metadata": {},
   "outputs": [
    {
     "name": "stdout",
     "output_type": "stream",
     "text": [
      "2018-04-25 00:00:00\n"
     ]
    }
   ],
   "source": [
    "import datetime\n",
    "date = datetime.datetime(2018,4,25)\n",
    "print(date)"
   ]
  },
  {
   "cell_type": "markdown",
   "metadata": {},
   "source": [
    "## Desafio 6\n",
    "Calcule o número de meses desde a data que o brasil foi descoberto. Considere um mês com 30 dias."
   ]
  },
  {
   "cell_type": "code",
   "execution_count": 27,
   "metadata": {},
   "outputs": [],
   "source": [
    "import datetime as dt"
   ]
  },
  {
   "cell_type": "code",
   "execution_count": 42,
   "metadata": {},
   "outputs": [
    {
     "name": "stdout",
     "output_type": "stream",
     "text": [
      "Meses totais: 6310\n"
     ]
    }
   ],
   "source": [
    "hoje = dt.date.today()\n",
    "desc_brasil = dt.date(1500,4,22)\n",
    "diff_date = hoje - desc_brasil\n",
    "# Encontra em qntd de meses\n",
    "meses = int(diff_date.days/30)\n",
    "print(\"Meses totais: {0}\".format(meses))"
   ]
  },
  {
   "cell_type": "markdown",
   "metadata": {},
   "source": [
    "## Regex"
   ]
  },
  {
   "cell_type": "markdown",
   "metadata": {},
   "source": [
    "Crie um estimador de sentimentos baseado em conjunto de palavras positivas e negativas para as frases abaixo. Utilize regex para validar sua presença.\n",
    "\n",
    "“O filme foi ótimo, adorei muito.”  \n",
    "“Não gostei, muito confuso e os atores estavam ruins.”  \n",
    "“Foi excelente, mas no começo não achei legal.”  \n",
    "“Poderia ser melhor.”\n"
   ]
  },
  {
   "cell_type": "code",
   "execution_count": 3,
   "metadata": {},
   "outputs": [],
   "source": [
    "import re"
   ]
  },
  {
   "cell_type": "code",
   "execution_count": 19,
   "metadata": {},
   "outputs": [
    {
     "name": "stdout",
     "output_type": "stream",
     "text": [
      "Texto: O filme foi ótimo, adorei muito. possui a nota de sentimento: 2\n",
      "Texto: Não gostei, muito confuso e os atores estavam ruins. possui a nota de sentimento: -2\n",
      "Texto: Foi excelente, mas no começo não achei legal. possui a nota de sentimento: 1\n",
      "Texto: Poderia ser melhor. possui a nota de sentimento: 0\n"
     ]
    }
   ],
   "source": [
    "positivos = ['ótimo', 'adorei', 'gostei', 'excelente', 'legal']\n",
    "negativos = ['Não gostei', 'confuso', 'ruins', 'não achei legal']\n",
    "\n",
    "textos = ['O filme foi ótimo, adorei muito.',  \n",
    "          'Não gostei, muito confuso e os atores estavam ruins.', \n",
    "          'Foi excelente, mas no começo não achei legal.',\n",
    "          'Poderia ser melhor.']\n",
    "\n",
    "for x in textos:\n",
    "    ponto = 0\n",
    "    for y in positivos:\n",
    "        palavras = re.findall(y, x, flags=re.IGNORECASE)\n",
    "        ponto += len(palavras)\n",
    "    for z in negativos:\n",
    "        palavras = re.findall(z, x, flags=re.IGNORECASE)\n",
    "        ponto -= len(palavras)\n",
    "    print(\"Texto: {0} possui a nota de sentimento: {1}\".format(x, ponto))"
   ]
  }
 ],
 "metadata": {
  "kernelspec": {
   "display_name": "Python 3",
   "language": "python",
   "name": "python3"
  },
  "language_info": {
   "codemirror_mode": {
    "name": "ipython",
    "version": 3
   },
   "file_extension": ".py",
   "mimetype": "text/x-python",
   "name": "python",
   "nbconvert_exporter": "python",
   "pygments_lexer": "ipython3",
   "version": "3.6.4"
  }
 },
 "nbformat": 4,
 "nbformat_minor": 2
}
