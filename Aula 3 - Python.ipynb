{
 "cells": [
  {
   "cell_type": "markdown",
   "metadata": {},
   "source": [
    "# Aula 3 - Orientação a Objetos"
   ]
  },
  {
   "cell_type": "markdown",
   "metadata": {},
   "source": [
    "Carros:\n",
    "Classes: Representa um Objetos, com suas caracteristias. Exemplos: Cor, Modelo, Autonomia.\n",
    "Métodos: Verbo ou Ação dos Objetos. Exempplos: Ligar/Desligar, Ativar Modo, etc.\n",
    "Acessos: Publicos: Todos podem acessar, dentro ou fora do Objeto. Privado: Somente o mesmo método pode acessar.\n",
    "Herança: Quando você trás atributos da classe pai. Exemplos: Tony Stark é a SUPERCLASS, com os seus atributos ele criou a MARK I, que é a SUBCLASS, que possui as caracteristicas do Stark mas melhoradas."
   ]
  },
  {
   "cell_type": "code",
   "execution_count": 1,
   "metadata": {},
   "outputs": [],
   "source": [
    "# SuperClass\n",
    "class MarkI(object):\n",
    "    # Atributo da Classe\n",
    "    serial = 1\n",
    "    # Metodo de Inicializacao\n",
    "    def __init__(self, arc_reactor, jet_boost, armadura, missil_qtde):\n",
    "        self.arc_reactor = arc_reactor\n",
    "        self.jet_boost = jet_boost\n",
    "        self.armadura = armadura\n",
    "        self.missil_qtde = missil_qtde\n",
    "        \n",
    "    def voar(self):\n",
    "        print(\"Ativar modo Voo\")\n",
    "        \n",
    "    def lancar_missil(self):\n",
    "        if self.missil_qtde > 0:\n",
    "            self.missil_qtde -= 1\n",
    "            print(\"Míssil lançado\")\n",
    "        else:\n",
    "            print(\"Sem munição\")\n",
    "            \n",
    "    def set_missil_qtde(self, missil_qtde):\n",
    "        self.missil_qtde = missil_qtde"
   ]
  },
  {
   "cell_type": "code",
   "execution_count": 2,
   "metadata": {},
   "outputs": [
    {
     "name": "stdout",
     "output_type": "stream",
     "text": [
      "Ativar modo Voo\n"
     ]
    }
   ],
   "source": [
    "# Iniciando Objeto\n",
    "mark1 = MarkI(True, True, True, 10)\n",
    "# Testando os metodos internos\n",
    "mark1.voar()"
   ]
  },
  {
   "cell_type": "code",
   "execution_count": 3,
   "metadata": {},
   "outputs": [],
   "source": [
    "#SubClass\n",
    "class BleedingEdge(MarkI):\n",
    "    # Atributo da Classe\n",
    "    serial = 15\n",
    "    # Metodo de Inicializacao\n",
    "    def __init__(self, arc_reactor, jet_boost, armadura, missil_qtde, personal_assistant, nanotech, laser_qtde=1):\n",
    "        # Herda a MarkI e seus atributos e metodos\n",
    "        MarkI.__init__(self, arc_reactor, jet_boost, armadura, missil_qtde)\n",
    "        # Novos atributos da SubClass\n",
    "        self.personal_assistant = personal_assistant\n",
    "        self.nanotech = nanotech\n",
    "        self.laser_qtde = laser_qtde\n",
    "        \n",
    "    def lancar_laser(self):\n",
    "        if self.laser_qtde > 0:\n",
    "            self.laser_qtde -= 1\n",
    "            print(\"Laser ativado\")\n",
    "        else:\n",
    "            print(\"Sem cartucho de laser\")\n",
    "            \n",
    "    def set_laser_qtde(self, laser_qtde):\n",
    "        self.laser_qtde = laser_qtde"
   ]
  },
  {
   "cell_type": "code",
   "execution_count": 4,
   "metadata": {},
   "outputs": [
    {
     "name": "stdout",
     "output_type": "stream",
     "text": [
      "Ativar modo Voo\n",
      "Laser ativado\n"
     ]
    },
    {
     "data": {
      "text/plain": [
       "15"
      ]
     },
     "execution_count": 4,
     "metadata": {},
     "output_type": "execute_result"
    }
   ],
   "source": [
    "# Criando objetos\n",
    "bleed = BleedingEdge(True, True, True, 3, True, True)\n",
    "# Acessando os metodos internos, da SuperClass e da SubClass\n",
    "bleed.voar()\n",
    "bleed.lancar_laser()\n",
    "# Acessando atributo da classe\n",
    "bleed.serial"
   ]
  },
  {
   "cell_type": "markdown",
   "metadata": {},
   "source": [
    "## Desafio 1\n",
    "Crie uma classe que irá modelar características geométricas de um círculo. Deverá implementar os métodos:  \n",
    "• Área  \n",
    "• Perímetro  \n",
    "Utilize atributos de classe e de instância apropriados. Crie um inicializador e métodos, além dos solicitados, get e set.  \n",
    "A área do círculo definido por pi∗r^2 e o perímetro 2∗pi∗r"
   ]
  },
  {
   "cell_type": "code",
   "execution_count": 5,
   "metadata": {},
   "outputs": [],
   "source": [
    "import math\n",
    "class Circulo(object):\n",
    "    \n",
    "    def __init__(self, raio):\n",
    "        self.raio = raio\n",
    "\n",
    "    def get_area(self):\n",
    "        return math.pi*self.raio**2\n",
    "    \n",
    "    def get_perimetro(self):\n",
    "        return 2*math.pi*self.raio\n",
    "        \n",
    "    def get_raio(self):\n",
    "        return self.raio\n",
    "        \n",
    "    def set_raio(self, raio):\n",
    "        self.raio = raio"
   ]
  },
  {
   "cell_type": "code",
   "execution_count": 6,
   "metadata": {},
   "outputs": [
    {
     "data": {
      "text/plain": [
       "314.1592653589793"
      ]
     },
     "execution_count": 6,
     "metadata": {},
     "output_type": "execute_result"
    }
   ],
   "source": [
    "# teste da Classe\n",
    "circulo = Circulo(40)\n",
    "circulo.set_raio(10)\n",
    "circulo.get_raio()\n",
    "circulo.get_area()"
   ]
  },
  {
   "cell_type": "markdown",
   "metadata": {},
   "source": [
    "## Desafio 2\n",
    "Crie uma classe para modelar uma linha. Esta classe deve implementar os seguintes métodos:  \n",
    "\n",
    "• Inicializador com os parametros x e y de 2 pontos  \n",
    "• Distância  \n",
    "• Inclinação  \n",
    "• Sobrescreva o método len para retornar a distância  \n",
    "\n",
    "Utilize uma tupla para as coordenadas de x e y.  \n",
    "A distância é calculada por (√(〖(x2−x1)〗^2+〖(y2−y1)〗^2 ).  \n",
    "A inclinação é definido por ((y2−y1))/((x2−x1))."
   ]
  },
  {
   "cell_type": "code",
   "execution_count": 10,
   "metadata": {},
   "outputs": [],
   "source": [
    "import math\n",
    "class Reta(object):\n",
    "    \n",
    "    def __init__(self, x, y):\n",
    "        self.x = x\n",
    "        self.y = y\n",
    "    \n",
    "    def get_distancia_euclidiana(self):\n",
    "        return math.sqrt((self.x[1] - self.x[0])**2 + (self.y[1] - self.y[0])**2)\n",
    "    \n",
    "    def get_inclinacao(self):\n",
    "        return (self.y[1] - self.y[0]) / (self.x[1] - self.x[0])\n",
    "    \n",
    "    def __len__(self):\n",
    "        return int(self.get_distancia_euclidiana())\n",
    "    \n",
    "    def __str__(self):\n",
    "        return \"A Distancia é {0}, e a Inclinação é {1}.\".format(self.get_distancia_euclidiana(), self.get_inclinacao())        "
   ]
  },
  {
   "cell_type": "code",
   "execution_count": 17,
   "metadata": {},
   "outputs": [
    {
     "name": "stdout",
     "output_type": "stream",
     "text": [
      "A Distancia é 1.4142135623730951, e a Inclinação é 1.0.\n"
     ]
    }
   ],
   "source": [
    "# Testando os Objetos\n",
    "teste = Reta((1,2),(3,4))\n",
    "teste.get_distancia_euclidiana()\n",
    "teste.get_inclinacao()\n",
    "print(teste)"
   ]
  },
  {
   "cell_type": "markdown",
   "metadata": {},
   "source": [
    "## Desafio 3\n",
    "Crie uma classe chamado corpus e implemente os seguintes métodos.  \n",
    "\n",
    "• Inicializador com o parametro texto como array e get e set para o(s) atributo(s)  \n",
    "• Inserir_texto para adicionar um item ao atributo texto  \n",
    "• Sobrescreva o método str para retornar o número de textos do array e o maior número de palavras  \n",
    "• Sobrescreva o método len para retornar o número de textos do array.  \n",
    "\n",
    "Utilize os conceitos de map, lambda e list."
   ]
  },
  {
   "cell_type": "code",
   "execution_count": 67,
   "metadata": {},
   "outputs": [],
   "source": [
    "import functools\n",
    "class Corpus(object):\n",
    "    def __init__(self, lista_texto):\n",
    "        self.lista_texto = lista_texto\n",
    "        \n",
    "    def inserir_texto(self, texto):\n",
    "        self.lista_texto.append(texto)\n",
    "        \n",
    "    def get_lista_texto(self):\n",
    "        return self.lista_texto\n",
    "    \n",
    "    def set_lista_texto(self, lista_texto):\n",
    "        self.lista_texto = lista_texto\n",
    "    \n",
    "    def __str__(self):\n",
    "        conta_palavras = lambda x: len(x.split(\" \"))\n",
    "        lista_palavras = list(map(conta_palavras, self.lista_texto))\n",
    "        maior_num_palavras = functools.reduce(lambda x, y: x if x > y else y, lista_palavras)\n",
    "        \n",
    "        ret = \"Número de textos {0}. \\nMaior número de palavras {1}.\".format(len(self.lista_texto), maior_num_palavras)\n",
    "        \n",
    "        return ret\n",
    "    \n",
    "    def __len__(self):\n",
    "        return len(self.lista_texto)"
   ]
  },
  {
   "cell_type": "code",
   "execution_count": 72,
   "metadata": {},
   "outputs": [
    {
     "name": "stdout",
     "output_type": "stream",
     "text": [
      "Número de textos 3. \n",
      "Maior número de palavras 6.\n"
     ]
    }
   ],
   "source": [
    "palavras = [\"Duan Nunes Alves da Silva\",\"Aulas de Sabados são monstras, né?\"]\n",
    "texto = Corpus(palavras)\n",
    "texto.inserir_texto(\"Silva\")\n",
    "texto.get_lista_texto()\n",
    "print(texto)"
   ]
  },
  {
   "cell_type": "markdown",
   "metadata": {},
   "source": [
    "## Desafio 4\n",
    "Crie uma classe chamado corpusenhanced, herdado de corpus e implemente:  \n",
    "\n",
    "• Método para converter o conteúdo dos textos para letras minúsculas.  \n",
    "• Método para imprimir em tela texto por texto.  \n",
    "\n",
    "Utilize string.lower() converte para mínusculas. Para acessar atributos da classe herdada utilize <nome-da-classe>.<nome-do-método>(self, parâmetros)."
   ]
  },
  {
   "cell_type": "code",
   "execution_count": 69,
   "metadata": {},
   "outputs": [],
   "source": [
    "class Corpusenhanced(Corpus):\n",
    "    def __init__(self, lista_melhorada):\n",
    "        self.lista_melhorada = lista_melhorada\n",
    "        Corpus.__init__(self, lista_melhorada)\n",
    "        \n",
    "    def minusculas(self):\n",
    "        # return str(self.lista_melhorada).lower()\n",
    "        conv_item = lambda x: x.lower()\n",
    "        Corpus.set_lista_texto(self, list(map(conv_item,\n",
    "                                              Corpus.get_lista_texto(self))))\n",
    "    \n",
    "    def lista_de_textos(self):\n",
    "        for texto in Corpus.get_lista_texto(self):\n",
    "            print(texto)\n",
    "        \n",
    "# Metodos Pai (SUPERCLASS) sempre devem receber o self da classe filha (SUBCLASS)"
   ]
  },
  {
   "cell_type": "code",
   "execution_count": 73,
   "metadata": {},
   "outputs": [
    {
     "name": "stdout",
     "output_type": "stream",
     "text": [
      "duan nunes alves da silva\n",
      "aulas de sabados são monstras, né?\n",
      "silva\n"
     ]
    }
   ],
   "source": [
    "texto_novo = Corpusenhanced(palavras)\n",
    "texto_novo.minusculas()\n",
    "texto_novo.get_lista_texto()\n",
    "texto_novo.lista_de_textos()"
   ]
  }
 ],
 "metadata": {
  "kernelspec": {
   "display_name": "Python 3",
   "language": "python",
   "name": "python3"
  },
  "language_info": {
   "codemirror_mode": {
    "name": "ipython",
    "version": 3
   },
   "file_extension": ".py",
   "mimetype": "text/x-python",
   "name": "python",
   "nbconvert_exporter": "python",
   "pygments_lexer": "ipython3",
   "version": "3.6.4"
  }
 },
 "nbformat": 4,
 "nbformat_minor": 2
}
